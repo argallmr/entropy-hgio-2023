{
 "cells": [
  {
   "cell_type": "markdown",
   "metadata": {},
   "source": [
    "# Agyrotropy\n",
    "The amount of agyrotropy in a distribution function is defined as (Swisdak 2016):\n",
    "$$\n",
    "\\begin{equation}\n",
    "    Q = \\frac{P_{12}^{2} + P_{13}^{2} + P_{23}^{2}} {P_{\\bot}^{2} + 2 P_{\\bot} P_{\\parallel}}\n",
    "\\end{equation}\n",
    "$$\n",
    "where $\\mathbb{P}$ is the pressure tensor\n",
    "$$\n",
    "\\begin{equation}\n",
    "    \\mathbb{P} = \\begin{pmatrix}\n",
    "                 P_{11} & P_{12} & P_{13} \\\\\n",
    "                 P_{21} & P_{22} & P_{23} \\\\\n",
    "                 P_{31} & P_{32} & P_{33}\n",
    "                 \\end{pmatrix}\n",
    "\\end{equation}\n",
    "$$\n",
    "\n",
    "The parallel and perpendicular components of the pressure tensor ($P_{\\parallel}$ and $P_{\\bot}$) are defined in a coordinate system with one axis aligned with the magnetic field. To determine them, we make use of two of the three tensor invariants -- the trace and the sum of the principal minors (the third invariant is the determinant) -- and the parallel pressure. The trace is given by\n",
    "$$\n",
    "\\begin{equation}\n",
    "    I_{1} = P_{xx} + P_{yy} + P_{zz}\n",
    "\\end{equation}\n",
    "$$\n",
    "\n",
    "the sum of the principal minors is\n",
    "$$\n",
    "\\begin{equation}\n",
    "    I_{2} = P_{xx} P_{yy} + P_{xx} P_{zz} + P_{yy} P_{zz} - \\left( P_{xy} P_{yx} + P_{xz} P_{zx} + P_{yz} P_{zy} \\right)\n",
    "\\end{equation}\n",
    "$$\n",
    "\n",
    "and the parallel pressure is\n",
    "$$\n",
    "\\begin{align}\n",
    "    P_{\\parallel} &= \\hat{\\mathbf{b}} \\cdot \\mathbb{P} \\cdot \\hat{\\mathbf{b}} \\\\\n",
    "    &= b_{x}^{2} P_{xx} + b_{y}^{2} P_{yy} + b_{z}^{2} P_{zz} + 2\\left( b_{x} b_{y} P_{xy} + b_{x} b_{z} P_{xz} + b_{y} b_{z} P_{yz} \\right).\n",
    "\\end{align}\n",
    "$$\n",
    "\n",
    "Using these, $Q$ becomes\n",
    "$$\n",
    "\\begin{equation}\n",
    "    Q = 1 - \\frac{4 I_{2}} {\\left( I_{1} - P_{\\parallel} \\right) \\left( I_{1} + 3 P_{\\parallel} \\right)}\n",
    "\\end{equation}\n",
    "$$\n",
    "\n",
    "Note that $Q$ is scales as the square of the pressure. It is more helpful if it scales linearly with pressure, so often $\\sqrt{Q}$ is used instead."
   ]
  },
  {
   "cell_type": "markdown",
   "metadata": {},
   "source": [
    "## Reference\n",
    "Swisdak, M. (2016). Quantifying gyrotropy in magnetic reconnection. Geophysical Research Letters, 43(1), 43–49. https://doi.org/10.1002/2015GL066980"
   ]
  },
  {
   "cell_type": "markdown",
   "metadata": {},
   "source": [
    "## Preamble"
   ]
  },
  {
   "cell_type": "code",
   "execution_count": 1,
   "metadata": {},
   "outputs": [
    {
     "ename": "AttributeError",
     "evalue": "module 'numpy.typing' has no attribute 'NDArray'",
     "output_type": "error",
     "traceback": [
      "\u001b[1;31m---------------------------------------------------------------------------\u001b[0m",
      "\u001b[1;31mAttributeError\u001b[0m                            Traceback (most recent call last)",
      "\u001b[1;32m<ipython-input-1-72395bafe01b>\u001b[0m in \u001b[0;36m<module>\u001b[1;34m\u001b[0m\n\u001b[0;32m      6\u001b[0m \u001b[1;32mfrom\u001b[0m \u001b[0mmpl_toolkits\u001b[0m\u001b[1;33m.\u001b[0m\u001b[0maxes_grid1\u001b[0m\u001b[1;33m.\u001b[0m\u001b[0minset_locator\u001b[0m \u001b[1;32mimport\u001b[0m \u001b[0minset_axes\u001b[0m\u001b[1;33m\u001b[0m\u001b[1;33m\u001b[0m\u001b[0m\n\u001b[0;32m      7\u001b[0m \u001b[1;33m\u001b[0m\u001b[0m\n\u001b[1;32m----> 8\u001b[1;33m \u001b[1;32mfrom\u001b[0m \u001b[0mpymms\u001b[0m\u001b[1;33m.\u001b[0m\u001b[0mdata\u001b[0m \u001b[1;32mimport\u001b[0m \u001b[0mfgm\u001b[0m\u001b[1;33m,\u001b[0m \u001b[0mfpi\u001b[0m\u001b[1;33m\u001b[0m\u001b[1;33m\u001b[0m\u001b[0m\n\u001b[0m",
      "\u001b[1;32m~\\anaconda3\\lib\\site-packages\\pymms\\data\\fgm.py\u001b[0m in \u001b[0;36m<module>\u001b[1;34m\u001b[0m\n\u001b[1;32m----> 1\u001b[1;33m \u001b[1;32mfrom\u001b[0m \u001b[0mpymms\u001b[0m\u001b[1;33m.\u001b[0m\u001b[0mdata\u001b[0m \u001b[1;32mimport\u001b[0m \u001b[0mutil\u001b[0m\u001b[1;33m\u001b[0m\u001b[1;33m\u001b[0m\u001b[0m\n\u001b[0m\u001b[0;32m      2\u001b[0m \u001b[1;33m\u001b[0m\u001b[0m\n\u001b[0;32m      3\u001b[0m \u001b[1;33m\u001b[0m\u001b[0m\n\u001b[0;32m      4\u001b[0m \u001b[1;32mdef\u001b[0m \u001b[0mcheck_spacecraft\u001b[0m\u001b[1;33m(\u001b[0m\u001b[0msc\u001b[0m\u001b[1;33m)\u001b[0m\u001b[1;33m:\u001b[0m\u001b[1;33m\u001b[0m\u001b[1;33m\u001b[0m\u001b[0m\n\u001b[0;32m      5\u001b[0m     \u001b[1;32mif\u001b[0m \u001b[0msc\u001b[0m \u001b[1;32mnot\u001b[0m \u001b[1;32min\u001b[0m \u001b[1;33m(\u001b[0m\u001b[1;34m'mms1'\u001b[0m\u001b[1;33m,\u001b[0m \u001b[1;34m'mms2'\u001b[0m\u001b[1;33m,\u001b[0m \u001b[1;34m'mms3'\u001b[0m\u001b[1;33m,\u001b[0m \u001b[1;34m'mms4'\u001b[0m\u001b[1;33m)\u001b[0m\u001b[1;33m:\u001b[0m\u001b[1;33m\u001b[0m\u001b[1;33m\u001b[0m\u001b[0m\n",
      "\u001b[1;32m~\\anaconda3\\lib\\site-packages\\pymms\\data\\util.py\u001b[0m in \u001b[0;36m<module>\u001b[1;34m\u001b[0m\n\u001b[1;32m----> 1\u001b[1;33m \u001b[1;32mfrom\u001b[0m \u001b[0mcdflib\u001b[0m \u001b[1;32mimport\u001b[0m \u001b[0mcdfread\u001b[0m\u001b[1;33m,\u001b[0m \u001b[0mepochs\u001b[0m\u001b[1;33m\u001b[0m\u001b[1;33m\u001b[0m\u001b[0m\n\u001b[0m\u001b[0;32m      2\u001b[0m \u001b[1;32mfrom\u001b[0m \u001b[0mpymms\u001b[0m\u001b[1;33m.\u001b[0m\u001b[0msdc\u001b[0m \u001b[1;32mimport\u001b[0m \u001b[0mmrmms_sdc_api\u001b[0m \u001b[1;32mas\u001b[0m \u001b[0mapi\u001b[0m\u001b[1;33m\u001b[0m\u001b[1;33m\u001b[0m\u001b[0m\n\u001b[0;32m      3\u001b[0m \u001b[1;32mimport\u001b[0m \u001b[0mpandas\u001b[0m \u001b[1;32mas\u001b[0m \u001b[0mpd\u001b[0m\u001b[1;33m\u001b[0m\u001b[1;33m\u001b[0m\u001b[0m\n\u001b[0;32m      4\u001b[0m \u001b[1;32mfrom\u001b[0m \u001b[0mscipy\u001b[0m\u001b[1;33m.\u001b[0m\u001b[0mstats\u001b[0m \u001b[1;32mimport\u001b[0m \u001b[0mbinned_statistic\u001b[0m\u001b[1;33m\u001b[0m\u001b[1;33m\u001b[0m\u001b[0m\n\u001b[0;32m      5\u001b[0m \u001b[1;32mimport\u001b[0m \u001b[0mxarray\u001b[0m \u001b[1;32mas\u001b[0m \u001b[0mxr\u001b[0m\u001b[1;33m\u001b[0m\u001b[1;33m\u001b[0m\u001b[0m\n",
      "\u001b[1;32m~\\anaconda3\\lib\\site-packages\\cdflib\\__init__.py\u001b[0m in \u001b[0;36m<module>\u001b[1;34m\u001b[0m\n\u001b[0;32m      1\u001b[0m \u001b[1;32mfrom\u001b[0m \u001b[0mpathlib\u001b[0m \u001b[1;32mimport\u001b[0m \u001b[0mPath\u001b[0m\u001b[1;33m\u001b[0m\u001b[1;33m\u001b[0m\u001b[0m\n\u001b[0;32m      2\u001b[0m \u001b[1;33m\u001b[0m\u001b[0m\n\u001b[1;32m----> 3\u001b[1;33m \u001b[1;32mfrom\u001b[0m \u001b[0mcdflib\u001b[0m\u001b[1;33m.\u001b[0m\u001b[0mcdfread\u001b[0m \u001b[1;32mimport\u001b[0m \u001b[0mCDF\u001b[0m\u001b[1;33m\u001b[0m\u001b[1;33m\u001b[0m\u001b[0m\n\u001b[0m\u001b[0;32m      4\u001b[0m \u001b[1;32mfrom\u001b[0m \u001b[1;33m.\u001b[0m \u001b[1;32mimport\u001b[0m \u001b[0mcdfread\u001b[0m\u001b[1;33m,\u001b[0m \u001b[0mcdfwrite\u001b[0m\u001b[1;33m\u001b[0m\u001b[1;33m\u001b[0m\u001b[0m\n\u001b[0;32m      5\u001b[0m \u001b[1;32mfrom\u001b[0m \u001b[1;33m.\u001b[0m\u001b[0mepochs\u001b[0m \u001b[1;32mimport\u001b[0m \u001b[0mCDFepoch\u001b[0m \u001b[1;32mas\u001b[0m \u001b[0mcdfepoch\u001b[0m  \u001b[1;31m# noqa: F401\u001b[0m\u001b[1;33m\u001b[0m\u001b[1;33m\u001b[0m\u001b[0m\n",
      "\u001b[1;32m~\\anaconda3\\lib\\site-packages\\cdflib\\cdfread.py\u001b[0m in \u001b[0;36m<module>\u001b[1;34m\u001b[0m\n\u001b[0;32m     12\u001b[0m \u001b[1;32mimport\u001b[0m \u001b[0mnumpy\u001b[0m \u001b[1;32mas\u001b[0m \u001b[0mnp\u001b[0m\u001b[1;33m\u001b[0m\u001b[1;33m\u001b[0m\u001b[0m\n\u001b[0;32m     13\u001b[0m \u001b[1;33m\u001b[0m\u001b[0m\n\u001b[1;32m---> 14\u001b[1;33m \u001b[1;32mimport\u001b[0m \u001b[0mcdflib\u001b[0m\u001b[1;33m.\u001b[0m\u001b[0mepochs\u001b[0m \u001b[1;32mas\u001b[0m \u001b[0mepoch\u001b[0m\u001b[1;33m\u001b[0m\u001b[1;33m\u001b[0m\u001b[0m\n\u001b[0m\u001b[0;32m     15\u001b[0m from cdflib.dataclasses import (\n\u001b[0;32m     16\u001b[0m     \u001b[0mAEDR\u001b[0m\u001b[1;33m,\u001b[0m\u001b[1;33m\u001b[0m\u001b[1;33m\u001b[0m\u001b[0m\n",
      "\u001b[1;32m~\\anaconda3\\lib\\site-packages\\cdflib\\epochs.py\u001b[0m in \u001b[0;36m<module>\u001b[1;34m\u001b[0m\n\u001b[0;32m      9\u001b[0m \u001b[1;32mimport\u001b[0m \u001b[0mnumpy\u001b[0m\u001b[1;33m.\u001b[0m\u001b[0mtyping\u001b[0m \u001b[1;32mas\u001b[0m \u001b[0mnpt\u001b[0m\u001b[1;33m\u001b[0m\u001b[1;33m\u001b[0m\u001b[0m\n\u001b[0;32m     10\u001b[0m \u001b[1;33m\u001b[0m\u001b[0m\n\u001b[1;32m---> 11\u001b[1;33m \u001b[1;32mfrom\u001b[0m \u001b[0mcdflib\u001b[0m\u001b[1;33m.\u001b[0m\u001b[0mutils\u001b[0m \u001b[1;32mimport\u001b[0m \u001b[0m_squeeze_or_scalar_complex\u001b[0m\u001b[1;33m,\u001b[0m \u001b[0m_squeeze_or_scalar_real\u001b[0m\u001b[1;33m\u001b[0m\u001b[1;33m\u001b[0m\u001b[0m\n\u001b[0m\u001b[0;32m     12\u001b[0m \u001b[1;33m\u001b[0m\u001b[0m\n\u001b[0;32m     13\u001b[0m \u001b[0mLEAPSEC_FILE\u001b[0m \u001b[1;33m=\u001b[0m \u001b[0mos\u001b[0m\u001b[1;33m.\u001b[0m\u001b[0mpath\u001b[0m\u001b[1;33m.\u001b[0m\u001b[0mjoin\u001b[0m\u001b[1;33m(\u001b[0m\u001b[0mos\u001b[0m\u001b[1;33m.\u001b[0m\u001b[0mpath\u001b[0m\u001b[1;33m.\u001b[0m\u001b[0mdirname\u001b[0m\u001b[1;33m(\u001b[0m\u001b[0mos\u001b[0m\u001b[1;33m.\u001b[0m\u001b[0mpath\u001b[0m\u001b[1;33m.\u001b[0m\u001b[0mrealpath\u001b[0m\u001b[1;33m(\u001b[0m\u001b[0m__file__\u001b[0m\u001b[1;33m)\u001b[0m\u001b[1;33m)\u001b[0m\u001b[1;33m,\u001b[0m \u001b[1;34m\"CDFLeapSeconds.txt\"\u001b[0m\u001b[1;33m)\u001b[0m\u001b[1;33m\u001b[0m\u001b[1;33m\u001b[0m\u001b[0m\n",
      "\u001b[1;32m~\\anaconda3\\lib\\site-packages\\cdflib\\utils.py\u001b[0m in \u001b[0;36m<module>\u001b[1;34m\u001b[0m\n\u001b[0;32m      5\u001b[0m \u001b[1;33m\u001b[0m\u001b[0m\n\u001b[0;32m      6\u001b[0m \u001b[1;33m\u001b[0m\u001b[0m\n\u001b[1;32m----> 7\u001b[1;33m \u001b[1;32mdef\u001b[0m \u001b[0m_squeeze_or_scalar_real\u001b[0m\u001b[1;33m(\u001b[0m\u001b[0marr\u001b[0m\u001b[1;33m:\u001b[0m \u001b[0mnpt\u001b[0m\u001b[1;33m.\u001b[0m\u001b[0mArrayLike\u001b[0m\u001b[1;33m)\u001b[0m \u001b[1;33m->\u001b[0m \u001b[0mUnion\u001b[0m\u001b[1;33m[\u001b[0m\u001b[0mnpt\u001b[0m\u001b[1;33m.\u001b[0m\u001b[0mNDArray\u001b[0m\u001b[1;33m,\u001b[0m \u001b[0mfloat\u001b[0m\u001b[1;33m]\u001b[0m\u001b[1;33m:\u001b[0m\u001b[1;33m\u001b[0m\u001b[1;33m\u001b[0m\u001b[0m\n\u001b[0m\u001b[0;32m      8\u001b[0m     \u001b[0marr\u001b[0m \u001b[1;33m=\u001b[0m \u001b[0mnp\u001b[0m\u001b[1;33m.\u001b[0m\u001b[0msqueeze\u001b[0m\u001b[1;33m(\u001b[0m\u001b[0marr\u001b[0m\u001b[1;33m)\u001b[0m\u001b[1;33m\u001b[0m\u001b[1;33m\u001b[0m\u001b[0m\n\u001b[0;32m      9\u001b[0m     \u001b[1;32mif\u001b[0m \u001b[0marr\u001b[0m\u001b[1;33m.\u001b[0m\u001b[0mndim\u001b[0m \u001b[1;33m==\u001b[0m \u001b[1;36m0\u001b[0m\u001b[1;33m:\u001b[0m\u001b[1;33m\u001b[0m\u001b[1;33m\u001b[0m\u001b[0m\n",
      "\u001b[1;31mAttributeError\u001b[0m: module 'numpy.typing' has no attribute 'NDArray'"
     ]
    }
   ],
   "source": [
    "# !pip install numpy==1.24.3\n",
    "import numpy as np\n",
    "import datetime as dt\n",
    "from matplotlib import pyplot as plt, dates as mdates\n",
    "import matplotlib.ticker as ticker\n",
    "from mpl_toolkits.axes_grid1.inset_locator import inset_axes\n",
    "\n",
    "from pymms.data import fgm, fpi"
   ]
  },
  {
   "cell_type": "markdown",
   "metadata": {},
   "source": [
    "## Data\n",
    "Define the data interval"
   ]
  },
  {
   "cell_type": "code",
   "execution_count": null,
   "metadata": {},
   "outputs": [],
   "source": [
    "sc = 'mms1'\n",
    "t0 = dt.datetime(2017, 7, 11, 22, 33, 30)\n",
    "t1 = dt.datetime(2017, 7, 11, 22, 34, 30)"
   ]
  },
  {
   "cell_type": "markdown",
   "metadata": {},
   "source": [
    "Download the data"
   ]
  },
  {
   "cell_type": "code",
   "execution_count": null,
   "metadata": {
    "scrolled": true
   },
   "outputs": [],
   "source": [
    "des_data = fpi.load_moms(sc=sc, mode='brst', optdesc='des-moms', start_date=t0, end_date=t1)\n",
    "fgm_data = fgm.load_data(sc=sc, mode='brst', start_date=t0, end_date=t1)"
   ]
  },
  {
   "cell_type": "markdown",
   "metadata": {},
   "source": [
    "Interpolate FGM to DES"
   ]
  },
  {
   "cell_type": "code",
   "execution_count": null,
   "metadata": {},
   "outputs": [],
   "source": [
    "B = fgm_data['B_GSE'].interp_like(des_data, method='linear')\n",
    "\n",
    "# Unit vector\n",
    "b = B[:,0:3] / np.linalg.norm(B[:,0:3], axis=1)[:, np.newaxis]"
   ]
  },
  {
   "cell_type": "markdown",
   "metadata": {},
   "source": [
    "## Derived Quantities"
   ]
  },
  {
   "cell_type": "markdown",
   "metadata": {},
   "source": [
    "### Trace\n",
    "$$\n",
    "\\begin{equation}\n",
    "    I_{1} = P_{xx} + P_{yy} + P_{zz}\n",
    "\\end{equation}\n",
    "$$"
   ]
  },
  {
   "cell_type": "code",
   "execution_count": null,
   "metadata": {},
   "outputs": [],
   "source": [
    "#I1\n",
    "I1 = des_data['prestensor'][:,0,0] + des_data['prestensor'][:,1,1] + des_data['prestensor'][:,2,2]\n",
    "I1 = I1.drop(['cart_index_dim1', 'cart_index_dim2'])"
   ]
  },
  {
   "cell_type": "markdown",
   "metadata": {},
   "source": [
    "### Sum of Principal Minors\n",
    "$$\n",
    "\\begin{equation}\n",
    "    I_{2} = P_{xx} P_{yy} + P_{xx} P_{zz} + P_{yy} P_{zz} - \\left( P_{xy} P_{yx} + P_{xz} P_{zx} + P_{yz} P_{zy} \\right)\n",
    "\\end{equation}\n",
    "$$"
   ]
  },
  {
   "cell_type": "code",
   "execution_count": null,
   "metadata": {},
   "outputs": [],
   "source": [
    "#I2=PxxPyy+PxxPzz+PyyPzz−(PxyPyx+PxzPzx+PyzPzy)\n",
    "I2= (des_data['prestensor'][:,0,0] * des_data['prestensor'][:,1,1]\n",
    "     + des_data['prestensor'][:,0,0] * des_data['prestensor'][:,2,2]\n",
    "     + des_data['prestensor'][:,1,1] * des_data['prestensor'][:,2,2]\n",
    "     - (des_data['prestensor'][:,0,1] * des_data['prestensor'][:,1,0]\n",
    "        + des_data['prestensor'][:,0,2] * des_data['prestensor'][:,2,0]\n",
    "        + des_data['prestensor'][:,1,2] * des_data['prestensor'][:,2,1]\n",
    "        )\n",
    "    )"
   ]
  },
  {
   "cell_type": "markdown",
   "metadata": {},
   "source": [
    "### Parallel Pressure\n",
    "$$\n",
    "\\begin{align}\n",
    "    P_{\\parallel} &= \\hat{\\mathbf{b}} \\cdot \\mathbb{P} \\cdot \\hat{\\mathbf{b}} \\\\\n",
    "    &= b_{x}^{2} P_{xx} + b_{y}^{2} P_{yy} + b_{z}^{2} P_{zz} + 2\\left( b_{x} b_{y} P_{xy} + b_{x} b_{z} P_{xz} + b_{y} b_{z} P_{yz} \\right).\n",
    "\\end{align}\n",
    "$$"
   ]
  },
  {
   "cell_type": "code",
   "execution_count": null,
   "metadata": {},
   "outputs": [],
   "source": [
    "# P.b\n",
    "p_par = des_data['prestensor'].dot(b.rename({'b_index': 'cart_index_dim2'}), dims=('cart_index_dim2',))\n",
    "\n",
    "# b.(P.b)\n",
    "p_par = b.dot(p_par.rename({'cart_index_dim1': 'b_index'}), dims=('b_index',))\n",
    "\n",
    "# p_par = (b[:,0]**2 * des_data['prestensor'][:,0,0]\n",
    "#          + b[:,1]**2 * des_data['prestensor'][:,1,1]\n",
    "#          + b[:,2]**2 * des_data['prestensor'][:,2,2]\n",
    "#          + 2 * (b[:,0]*B[:,1]*des_data['prestensor'][:,0,1]\n",
    "#                 + b[:,0]*B[:,2]*des_data['prestensor'][:,0,2]\n",
    "#                 + b[:,1]*B[:,2]*des_data['prestensor'][:,1,2]\n",
    "#                 )\n",
    "#          )"
   ]
  },
  {
   "cell_type": "markdown",
   "metadata": {},
   "source": [
    "## Agyrotropy\n",
    "$$\n",
    "\\begin{equation}\n",
    "    Q = 1 - \\frac{4 I_{2}} {\\left( I_{1} - P_{\\parallel} \\right) \\left( I_{1} + 3 P_{\\parallel} \\right)}\n",
    "\\end{equation}\n",
    "$$"
   ]
  },
  {
   "cell_type": "code",
   "execution_count": null,
   "metadata": {},
   "outputs": [],
   "source": [
    "Q = 1 - ((4*I2) / ((I1-p_par) * (I1 + 3*p_par)))"
   ]
  },
  {
   "cell_type": "markdown",
   "metadata": {},
   "source": [
    "## Plot\n",
    "Plot $\\sqrt{Q}$"
   ]
  },
  {
   "cell_type": "code",
   "execution_count": null,
   "metadata": {},
   "outputs": [],
   "source": [
    "#This is not comlete.\n",
    "nrows = 7\n",
    "ncols = 1\n",
    "figsize = (7.0, 10.0)\n",
    "fig, axes = plt.subplots(nrows=nrows, ncols=ncols,\n",
    "                         figsize=figsize, squeeze=False)\n",
    "plt.subplots_adjust(right=0.85)\n",
    "\n",
    "locator = mdates.AutoDateLocator()\n",
    "formatter = mdates.ConciseDateFormatter(locator)\n",
    "\n",
    "# Magnetic Field\n",
    "ax = axes[0,0]\n",
    "B[:,0].plot(ax=ax, label='Bx')\n",
    "B[:,1].plot(ax=ax, label='By')\n",
    "B[:,2].plot(ax=ax, label='Bz')\n",
    "ax.set_title('Agyrotropy')\n",
    "ax.set_xlabel('')\n",
    "ax.set_xticklabels([])\n",
    "ax.set_ylabel('B [nT]')\n",
    "\n",
    "#\n",
    "# DES Energy Spectra\n",
    "#\n",
    "\n",
    "# Energy flux is a function of time and energy: F(t, E)\n",
    "#   - pcolorfast requires time and energy to be nt x nE, where nt (nE) is the\n",
    "#     number of time (energy) points\n",
    "#   - Energy is already time dependent, but we have to repeat the time axis\n",
    "#   - These define the bottom-left corner of the heatmap pixels\n",
    "#   - Except the last point in the array is the top-right corner of the last pixel\n",
    "nt = des_data['omnispectr'].shape[0]\n",
    "nE = des_data['omnispectr'].shape[1]\n",
    "x0 = mdates.date2num(des_data['time'])[:, np.newaxis].repeat(nE, axis=1)\n",
    "x1 = des_data['energy']\n",
    "\n",
    "# Plot the log of the flux\n",
    "#   - Convert 0 values to 1 so that log(1) = 0 (should probably replace with NaN)\n",
    "#   - The (x0, x1) coordinates should have one more point than the data because they are\n",
    "#     the last two points define the bottom-left and upper-right points of the last pixel\n",
    "#   - I should extend (x0, x1) by (dx0, dx1), but since dx1 (energy) is not constant, it\n",
    "#     is easier to trip one point from F\n",
    "#   - I should also move x0 (time) to the beginning of the sample interval\n",
    "#     instead of the end\n",
    "y = np.where(des_data['omnispectr'] == 0, 1, des_data['omnispectr'])\n",
    "y = np.log(y[0:-1,0:-1])\n",
    "\n",
    "# Create an image and add it to the axes\n",
    "ax = axes[1,0]\n",
    "im = ax.pcolorfast(x0, x1, y, cmap='nipy_spectral')\n",
    "ax.images.append(im)\n",
    "ax.xaxis.set_major_locator(locator)\n",
    "ax.xaxis.set_major_formatter(formatter)\n",
    "ax.set_xticklabels([])\n",
    "ax.set_xlabel('')\n",
    "ax.set_yscale('log')\n",
    "ax.set_ylabel('E e-\\n(eV)')\n",
    "\n",
    "# Create a colorbar axis just outside the right-edge of the plot\n",
    "cbaxes = inset_axes(ax,\n",
    "                    width='2%', height='100%', loc=4,\n",
    "                    bbox_to_anchor=(0, 0, 1.05, 1),\n",
    "                    bbox_transform=ax.transAxes,\n",
    "                    borderpad=0)\n",
    "cb = plt.colorbar(im, cax=cbaxes, orientation='vertical')\n",
    "cb.set_label('$log_{10}$DEF')\n",
    "\n",
    "#\n",
    "# DONE: DES Energy Spectra\n",
    "#\n",
    "\n",
    "# Trace\n",
    "ax = axes[2,0]\n",
    "I1.plot(ax=ax)\n",
    "ax.set_title('')\n",
    "ax.set_xlabel('')\n",
    "ax.set_xticklabels([])\n",
    "ax.set_ylabel('$I_{1}$ [nPa]')\n",
    "\n",
    "# Principal Minors\n",
    "ax = axes[3,0]\n",
    "I2.plot(ax=ax)\n",
    "ax.set_title('')\n",
    "ax.set_xlabel('')\n",
    "ax.set_xticklabels([])\n",
    "ax.set_ylabel('$I_{2}$ [nPa]$^{2}$')\n",
    "\n",
    "# Parallel Pressure\n",
    "ax = axes[4,0]\n",
    "p_par.plot(ax=ax)\n",
    "ax.set_title('')\n",
    "ax.set_xlabel('')\n",
    "ax.set_xticklabels([])\n",
    "ax.set_ylabel('$P_{\\parallel}$ [nPa]')\n",
    "\n",
    "# Agyrotropy\n",
    "ax = axes[5,0]\n",
    "Q.plot(ax=ax)\n",
    "ax.set_title('')\n",
    "ax.set_xlabel('')\n",
    "ax.set_xticklabels([])\n",
    "ax.set_ylabel('Q')\n",
    "\n",
    "# Agyrotropy - Sqrt\n",
    "ax = axes[6,0]\n",
    "np.sqrt(Q).plot(ax=ax)\n",
    "ax.set_title('')\n",
    "ax.set_xlabel('')\n",
    "ax.set_ylabel('$\\sqrt{Q}$')\n",
    "\n",
    "# Format the time axis nicer\n",
    "ax.xaxis.set_major_locator(locator)\n",
    "ax.xaxis.set_major_formatter(formatter)\n",
    "ax.xaxis.set_minor_locator(ticker.AutoMinorLocator())\n",
    "for tick in ax.get_xticklabels():\n",
    "    tick.set_rotation(45)\n",
    "\n",
    "# Make all of the axes have the exact time range\n",
    "_ = plt.setp(axes, xlim=(t0, t1))"
   ]
  },
  {
   "cell_type": "code",
   "execution_count": null,
   "metadata": {},
   "outputs": [],
   "source": []
  }
 ],
 "metadata": {
  "kernelspec": {
   "display_name": "Python 3",
   "language": "python",
   "name": "python3"
  },
  "language_info": {
   "codemirror_mode": {
    "name": "ipython",
    "version": 3
   },
   "file_extension": ".py",
   "mimetype": "text/x-python",
   "name": "python",
   "nbconvert_exporter": "python",
   "pygments_lexer": "ipython3",
   "version": "3.8.5"
  }
 },
 "nbformat": 4,
 "nbformat_minor": 4
}
